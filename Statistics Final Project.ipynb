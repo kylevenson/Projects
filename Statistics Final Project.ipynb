{
  "nbformat": 4,
  "nbformat_minor": 0,
  "metadata": {
    "colab": {
      "provenance": []
    },
    "kernelspec": {
      "name": "python3",
      "display_name": "Python 3"
    },
    "language_info": {
      "name": "python"
    }
  },
  "cells": [
    {
      "cell_type": "code",
      "execution_count": null,
      "metadata": {
        "id": "lYI032j2JE9j",
        "colab": {
          "base_uri": "https://localhost:8080/"
        },
        "outputId": "0d91019f-b12b-49e1-fe05-3e9f24b3e148"
      },
      "outputs": [
        {
          "output_type": "stream",
          "name": "stdout",
          "text": [
            "Mounted at /content/drive\n"
          ]
        }
      ],
      "source": [
        "import pandas as pd\n",
        "import numpy as np\n",
        "import random\n",
        "import math\n",
        "import matplotlib.pyplot as plt\n",
        "from scipy import stats\n",
        "from scipy.stats import bernoulli, binom, variation, norm\n",
        "import time\n",
        "from google.colab import drive\n",
        "from sklearn import linear_model\n",
        "import statsmodels.api as sm\n",
        "import statistics\n",
        "plt.style.use('seaborn-dark')\n",
        "drive.mount('/content/drive')"
      ]
    },
    {
      "cell_type": "markdown",
      "source": [
        "##PROBLEM 1"
      ],
      "metadata": {
        "id": "AFKkVyUMLH-6"
      }
    },
    {
      "cell_type": "code",
      "source": [
        "transformed = []; rnorms = []\n",
        "for i in range(10000):\n",
        "  X = [np.random.normal(0, np.sqrt(3)) for i in range(100)]\n",
        "  if i == 1:\n",
        "    sample = X\n",
        "  transformed_x = [v**2 + np.cos(v) for v in X]\n",
        "  transformed.append(transformed_x)\n",
        "  rnorms.append(X)\n",
        "\n",
        "xbar = np.mean(transformed[0])\n",
        "s = np.std(transformed[0])\n",
        "print(\"95% confidence interval for u is {} +/- {}\".format(xbar, 1.96*s*np.sqrt(1/100)))"
      ],
      "metadata": {
        "id": "ymxP-puDLCd6"
      },
      "execution_count": null,
      "outputs": []
    },
    {
      "cell_type": "code",
      "source": [
        "transformed_means = []; rnorms_means = []\n",
        "for i in range(len(transformed)):\n",
        "  transformed_means.append(np.mean(transformed[i]))\n",
        "  rnorms_means.append(np.mean(rnorms[i]))\n",
        "\n",
        "plt.hist(transformed_means, bins=50, density = True)\n",
        "plt.hist(rnorms_means, bins=50, density = True)\n",
        "plt.xlabel(\"Sample Means\")\n",
        "plt.ylabel(\"Density\")\n",
        "plt.legend(['X^2 + cos (X)','N(0,3)'])"
      ],
      "metadata": {
        "id": "LwTDvJaYL0hP"
      },
      "execution_count": null,
      "outputs": []
    },
    {
      "cell_type": "markdown",
      "source": [
        "##PROBLEM 2"
      ],
      "metadata": {
        "id": "dkSdcBXULNH1"
      }
    },
    {
      "cell_type": "code",
      "source": [
        "def func(x, S = 90, r = 0.04, delta = 0.25):\n",
        "  return S * np.exp(delta * x + (r - (delta**2)/2)*2)\n",
        "\n",
        "transformed = []; rnorms = []\n",
        "for i in range(10000):\n",
        "  X = [np.random.normal(0, np.sqrt(2)) for i in range(100)]\n",
        "  if i == 1:\n",
        "    sample = X\n",
        "  transformed_x = [func(v) for v in X]\n",
        "  transformed.append(transformed_x); rnorms.append(X)\n",
        "\n",
        "ey = np.mean(transformed[0])\n",
        "s = np.std(transformed[0])\n",
        "print(\"95% confidence interval for u is {} +/- {}\".format(ey, 1.96*s*np.sqrt(1/100)))"
      ],
      "metadata": {
        "id": "zZfHl6d4LCZx"
      },
      "execution_count": null,
      "outputs": []
    },
    {
      "cell_type": "code",
      "source": [
        "transformed_means = []; rnorms_means = []\n",
        "for i in range(len(transformed)):\n",
        "  transformed_means.append(np.mean(transformed[i]))\n",
        "  rnorms_means.append(np.mean(rnorms[i]))\n",
        "\n",
        "plt.hist(transformed_means, bins=50, density = True)\n",
        "plt.xlabel(\"Sample Means\")\n",
        "plt.ylabel(\"Density\")"
      ],
      "metadata": {
        "id": "xfSXbagEL01S"
      },
      "execution_count": null,
      "outputs": []
    },
    {
      "cell_type": "markdown",
      "source": [
        "##PROBLEM 3"
      ],
      "metadata": {
        "id": "D7yIe4nmLPNW"
      }
    },
    {
      "cell_type": "code",
      "source": [
        "dt = .01\n",
        "t0 = 0\n",
        "tf = 3\n",
        "a = .05\n",
        "b = .20\n",
        "X0 = 100"
      ],
      "metadata": {
        "id": "dFkSBl2WWKD1"
      },
      "execution_count": null,
      "outputs": []
    },
    {
      "cell_type": "code",
      "source": [
        "def dWt(dt):\n",
        "  return math.sqrt(dt)*np.random.normal(loc=0,scale=1)"
      ],
      "metadata": {
        "id": "Wd2ULwmoPaoS"
      },
      "execution_count": null,
      "outputs": []
    },
    {
      "cell_type": "code",
      "source": [
        "#Euler Maruyama\n",
        "n_sims = 10\n",
        "\n",
        "t = [t0]\n",
        "t_temp = t0\n",
        "X = []\n",
        "for i in range(n_sims):\n",
        "  X.append([X0])\n",
        "count = 0\n",
        "while t_temp < tf:\n",
        "  count += 1\n",
        "  t_temp += dt\n",
        "  t.append(t_temp)\n",
        "  for i in range(n_sims):\n",
        "    X[i].append(X[i][count-1] + a*X[i][count-1]*dt + b*X[i][count-1]*dWt(dt))\n",
        "\n",
        "y = [X0]\n",
        "for i in range(1,len(t)):\n",
        "  y.append(y[i-1] + a*y[i-1]*dt)\n",
        "\n",
        "plt.plot(t,y)\n",
        "for i in range(n_sims):\n",
        "  plt.plot(t,X[i])\n",
        "\n",
        "plt.xlabel('t')\n",
        "plt.ylabel('X(t)')\n",
        "plt.title('Discretized simulation of stochastic differential Equation')\n",
        "plt.legend(['deterministic'])\n",
        "plt.grid(True)\n",
        "plt.show()"
      ],
      "metadata": {
        "id": "PV0R-IfFWKEC",
        "colab": {
          "base_uri": "https://localhost:8080/",
          "height": 291
        },
        "outputId": "68bdbdcc-8c55-482d-99fa-b6074ed71773"
      },
      "execution_count": null,
      "outputs": [
        {
          "output_type": "display_data",
          "data": {
            "text/plain": [
              "<Figure size 432x288 with 1 Axes>"
            ],
            "image/png": "[encoded data removed]"
          },
          "metadata": {}
        }
      ]
    },
    {
      "cell_type": "code",
      "source": [
        "# Now we can take many samples of T_3 through repeated Euler-Maruyama\n",
        "\n",
        "n_samples = 10000\n",
        "\n",
        "t0 = 0\n",
        "tf = 3\n",
        "\n",
        "t = t0\n",
        "X = []\n",
        "for i in range(n_samples):\n",
        "  X.append(X0)\n",
        "\n",
        "while t < tf:\n",
        "  t += dt\n",
        "  for i in range(n_samples):\n",
        "    X[i] = X[i] + a*X[i]*dt + b*X[i]*dWt(dt)\n",
        "\n",
        "bin_list = []\n",
        "for i in range(100):\n",
        "  bin_list.append(4*i)\n",
        "\n",
        "plt.hist(X, bins=bin_list)\n",
        "plt.show\n",
        "plt.xlabel('X_3')\n",
        "plt.ylabel('frequency')\n",
        "plt.title('10000 samples of X_3 using Euler-Maruyama method')\n",
        "plt.grid(True)\n",
        "\n",
        "ev = sum(X)/len(X)\n",
        "print('Expected value of X_3: ' + str(ev))\n",
        "\n",
        "count = 0\n",
        "for i in range(len(X)):\n",
        "  if X[i] > 2:\n",
        "    count += 1\n",
        "  X[i] = X[i]**0.4\n",
        "print('P(X_3>2) is roughly equal to ' + str(count/n_samples))\n",
        "ev = sum(X)/len(X)\n",
        "print('Expected value of X_3^0.4: ' + str(ev))"
      ],
      "metadata": {
        "id": "GVWUGL9wSzbA"
      },
      "execution_count": null,
      "outputs": []
    },
    {
      "cell_type": "code",
      "source": [
        "# Sample from the analytical solution for X_3\n",
        "\n",
        "n_samples = 10000\n",
        "X = []\n",
        "for i in range(n_samples):\n",
        "  X.append(X0*math.exp(a*3+b*math.sqrt(3)*np.random.normal(loc=0,scale=1)))\n",
        "\n",
        "bin_list = []\n",
        "for i in range(100):\n",
        "  bin_list.append(4*i)\n",
        "\n",
        "plt.hist(X, bins=bin_list)\n",
        "plt.show\n",
        "plt.xlabel('X_3')\n",
        "plt.ylabel('frequency')\n",
        "plt.title('10000 samples of X_3 using analytical solution')\n",
        "plt.grid(True)\n",
        "\n",
        "ev = sum(X)/len(X)\n",
        "print('Expected value of X_3: ' + str(ev))\n",
        "count = 0\n",
        "for i in range(len(X)):\n",
        "  if X[i] > 2:\n",
        "    count += 1\n",
        "  X[i] = X[i]**0.4\n",
        "print('P(X_3>2) is roughly equal to ' + str(count/n_samples))\n",
        "ev = sum(X)/len(X)\n",
        "print('Expected value of X_3^0.4: ' + str(ev))"
      ],
      "metadata": {
        "id": "ePWMeRuhsTHN"
      },
      "execution_count": null,
      "outputs": []
    },
    {
      "cell_type": "markdown",
      "source": [
        "##PROBLEM 4"
      ],
      "metadata": {
        "id": "kJi1fsehLRbB"
      }
    },
    {
      "cell_type": "code",
      "source": [
        "# Create dataframe (matrix of data)\n",
        "data = {'y':[85, 110, 90, 80, 90, 95, 80, 98, 91, 95],\n",
        "        'x1':[1, 1, -1, -1, 0, 0, 1, -2, 2, 1.5],\n",
        "        'x2':[-1, 1, 1, -1, 0, 1, 0, 1, 2, 1]\n",
        "}\n",
        "df = pd.DataFrame(data)\n",
        "# Create squared terms\n",
        "x1sq = df['x1']**2\n",
        "x2sq = df['x2']**2\n",
        "df['x1sq'] = x1sq; df['x2sq'] = x2sq\n",
        "# Designate Y and X matrices\n",
        "x = df[['x1', 'x2', 'x1sq', 'x2sq']]\n",
        "y = df['y']\n",
        "# Regression and obtaining coefficients 1\n",
        "regr = linear_model.LinearRegression()\n",
        "regr.fit(x, y)\n",
        "\n",
        "print('Intercept: \\n', regr.intercept_)\n",
        "print('Coefficients: \\n', regr.coef_)\n",
        "\n",
        "# with statsmodels\n",
        "x = sm.add_constant(x) # adding a constant\n",
        "\n",
        "# Regression and obtaining coefficients 2\n",
        "model = sm.OLS(y, x).fit()\n",
        "predictions = model.predict(x)\n",
        "\n",
        "print_model = model.summary()\n",
        "print(print_model)"
      ],
      "metadata": {
        "id": "qT7wbK0dLCT6"
      },
      "execution_count": null,
      "outputs": []
    },
    {
      "cell_type": "markdown",
      "source": [
        "b)\n",
        "Ho B3 = B4 = 0;\n",
        "RR: |t| > t a/2;\n",
        "t for B3 = .093, while t a/2 = .93;\n",
        "t for B4 = .576, while t a/2 = .59;\n",
        "Neither fall within RR, therefore fail to reject Ho."
      ],
      "metadata": {
        "id": "XKehj_i8l-xa"
      }
    },
    {
      "cell_type": "markdown",
      "source": [
        "c) 95% Confidence Interval for Y* if x1 = 1; x2 = 0;\n",
        "= a'B +- t(a/2)sqrt(a'((X'X)^(-1))a); ta/2 = 2.306; SSE = Y'Y - B'(X'Y) = 397.01; S = sqrt(SSE/n-(k+1)) = 8.91; CI = 90.52 +- 2.306(8.91)sqrt(.396) = 90.52 +- 12.93"
      ],
      "metadata": {
        "id": "7xNCu028nk6P"
      }
    },
    {
      "cell_type": "markdown",
      "source": [
        "d) 95% Prediction Interval for Y* if x1 = 1; x2 = 0; = a'B +- t(a/2)sqrt(1 + a'((X'X)^(-1))a) = 90.52 +- 2.306(8.91)sqrt(1.396) = 90.52 +- 24.28;"
      ],
      "metadata": {
        "id": "kSlpkfPho-gP"
      }
    },
    {
      "cell_type": "code",
      "source": [
        "# 95% confidence interval for EY* is EY* +/- t * s * sqrt(1/n + (x* - xbar)**2/Sxx)\n",
        "# 95% prediction interval for Y* is Y* +/- t * s * sqrt(1 + 1/n + (x*-xbar)**2/Sxx)"
      ],
      "metadata": {
        "id": "dY-u2VzrL1h5"
      },
      "execution_count": null,
      "outputs": []
    },
    {
      "cell_type": "markdown",
      "source": [
        "##PROBLEM 5"
      ],
      "metadata": {
        "id": "ONevV_5QLTHt"
      }
    },
    {
      "cell_type": "code",
      "source": [
        "# Read in Excels\n",
        "TSLAyearToday = pd.read_csv('/content/drive/Shareddrives/MATH 408 Project 2/TSLA (11-20-21 - 11-20-22).csv', header=0, low_memory=False)\n",
        "AAPLyearToday = pd.read_csv('/content/drive/Shareddrives/MATH 408 Project 2/AAPL (11-20-21 - 11-20-22).csv', header=0, low_memory=False)\n",
        "# Create Daily Return Columns\n",
        "TSLAyearToday['Daily Return'] = TSLAyearToday['Last Close'] - TSLAyearToday['Close']\n",
        "AAPLyearToday['Daily Return'] = AAPLyearToday['Last Close'] - AAPLyearToday['Close']\n",
        "# TSLAyearToday"
      ],
      "metadata": {
        "id": "GHbINBrsLCGj"
      },
      "execution_count": null,
      "outputs": []
    },
    {
      "cell_type": "code",
      "source": [
        "#Plot Histogram from CSVs\n",
        "TSLAyearTodayHist = TSLAyearToday.hist('Daily Return', bins = 40, density = True)\n",
        "plt.xlabel(\"Daily Return\")\n",
        "plt.title(\"TSLA's Daily Returns Over 11/20/21 - 11/20/22\")\n",
        "#Create Overlay\n",
        "mu, std = norm.fit(TSLAyearToday['Daily Return'])\n",
        "xmin, xmax = plt.xlim()\n",
        "x = np.linspace(xmin, xmax, 251)\n",
        "p = norm.pdf(x, mu, std) #Best Fit\n",
        "q = norm.pdf(x, mu, std*0.8)\n",
        "g = norm.pdf(x, mu, std*1.2)\n",
        "# adjustednorm = norm.pdf(x, 0.815976, 11.603081)\n",
        "#Plot Together\n",
        "plt.plot(x, p, 'k', linewidth=2, color = \"red\")\n",
        "plt.plot(x, q, 'k', linewidth=2, color = \"blue\")\n",
        "plt.plot(x, g, 'k', linewidth=2, color = \"green\")\n",
        "# plt.plot(x, adjustednorm, 'k', linewidth=2, color = \"yellow\")\n",
        "plt.show()"
      ],
      "metadata": {
        "id": "Ko221F7sPDwn"
      },
      "execution_count": null,
      "outputs": []
    },
    {
      "cell_type": "code",
      "source": [
        "np.random.seed(1)\n",
        "fig = sm.qqplot(TSLAyearToday['Daily Return'], line='45')\n",
        "plt.show()"
      ],
      "metadata": {
        "id": "pkpzsHbjPDdv"
      },
      "execution_count": null,
      "outputs": []
    },
    {
      "cell_type": "code",
      "source": [
        "#Plot Histogram from CSVs\n",
        "AAPLyearTodayHist = AAPLyearToday.hist('Daily Return', bins = 40, density = True)\n",
        "plt.xlabel(\"Daily Return\")\n",
        "plt.title(\"AAPL's Daily Returns Over 11/20/21 - 11/20/22\")\n",
        "#Create Overlay\n",
        "mu, std = norm.fit(AAPLyearToday['Daily Return'])\n",
        "xmin, xmax = plt.xlim()\n",
        "x = np.linspace(xmin, xmax, 100)\n",
        "p = norm.pdf(x, mu, std) #Best Fit\n",
        "q = norm.pdf(x, mu, std*0.8)\n",
        "g = norm.pdf(x, mu, std*1.2)\n",
        "#Plot Together\n",
        "plt.plot(x, p, 'k', linewidth=2, color = \"red\")\n",
        "plt.plot(x, q, 'k', linewidth=2, color = \"blue\")\n",
        "plt.plot(x, g, 'k', linewidth=2, color = \"green\")\n",
        "plt.show()"
      ],
      "metadata": {
        "id": "tfLARBQlgyG4"
      },
      "execution_count": null,
      "outputs": []
    },
    {
      "cell_type": "code",
      "source": [
        "# np.random.seed(1)\n",
        "fig = sm.qqplot(AAPLyearToday['Daily Return'], line='45')\n",
        "plt.show()"
      ],
      "metadata": {
        "id": "7KcOamRfg5U_"
      },
      "execution_count": null,
      "outputs": []
    },
    {
      "cell_type": "code",
      "source": [
        "#Independence\n",
        "plt.plot(AAPLyearToday['Daily Return'], TSLAyearToday['Daily Return'])\n",
        "plt.title(\"Apple and Tesla Stocks Daily Returns, Connected Chronologically\")\n",
        "plt.xlabel(\"Apple Stock Daily Returns\")\n",
        "plt.ylabel(\"Tesla Stock Daily Returns\")"
      ],
      "metadata": {
        "id": "xCpWUYBXKTPo"
      },
      "execution_count": null,
      "outputs": []
    },
    {
      "cell_type": "code",
      "source": [
        "#Sign Ranked Test\n",
        "def signRankedTest(dataSet = []):\n",
        "  # obtain mean and standard deviation of the data set\n",
        "  mu, std = norm.fit(dataSet['Daily Return'])\n",
        "  # normalize data\n",
        "  dataSet['Normalized'] = (dataSet['Daily Return'] - mu) /std\n",
        "  # use mu and standard deviation to calculate differences from\n",
        "  # normal distribution of best fit\n",
        "  dataSet['Differences'] = dataSet['Normalized'] - \\\n",
        "                              ((1/(std*np.sqrt(np.pi*2))) \\\n",
        "                  * np.exp(-0.5*((dataSet['Daily Return']-mu)/std)**2))\n",
        "  # obtain absolute value of differences to rank\n",
        "  dataSet['Abs Differences'] = abs(dataSet['Differences'])\n",
        "  dataSet.sort_values(by=['Abs Differences'], inplace = True)\n",
        "  dataSet.reset_index()\n",
        "  dataSet['Rank'] = dataSet.index\n",
        "  # Sum ranks of positive differences\n",
        "  sumOfPositiveRanks = 0\n",
        "  for i in range(0,251,1):\n",
        "    if dataSet['Differences'][i] > 0:\n",
        "      sumOfPositiveRanks += dataSet['Rank'][i]\n",
        "  #calculate and print Z statistic\n",
        "  zstat = ((sumOfPositiveRanks - (251*252)/4)/\\\n",
        "           (math.sqrt((251*252*503)/24)))\n",
        "  print(zstat)\n",
        "#Reject if less than negative zalpha/2, more than positive zalpha/2\n",
        "signRankedTest(AAPLyearToday)\n",
        "signRankedTest(TSLAyearToday)"
      ],
      "metadata": {
        "id": "qpvQvfQj_i9_"
      },
      "execution_count": null,
      "outputs": []
    }
  ]
}